{
  "nbformat": 4,
  "nbformat_minor": 0,
  "metadata": {
    "colab": {
      "name": "Untitled5.ipynb",
      "provenance": [],
      "authorship_tag": "ABX9TyMXTq5CzA4nnQfQMnRE3vjH",
      "include_colab_link": true
    },
    "kernelspec": {
      "name": "python3",
      "display_name": "Python 3"
    },
    "language_info": {
      "name": "python"
    }
  },
  "cells": [
    {
      "cell_type": "markdown",
      "metadata": {
        "id": "view-in-github",
        "colab_type": "text"
      },
      "source": [
        "<a href=\"https://colab.research.google.com/github/Deepn05/-HumanPhysiology-Project/blob/main/Untitled5.ipynb\" target=\"_parent\"><img src=\"https://colab.research.google.com/assets/colab-badge.svg\" alt=\"Open In Colab\"/></a>"
      ]
    },
    {
      "cell_type": "code",
      "execution_count": 1,
      "metadata": {
        "id": "9Q3PvoXfDMBX"
      },
      "outputs": [],
      "source": [
        "import tensorflow as tf\n"
      ]
    },
    {
      "cell_type": "code",
      "source": [
        "# A tensor of 0 dimension \n",
        "r1=tf.constant (1, tf.int32)\n",
        "print (r1)"
      ],
      "metadata": {
        "colab": {
          "base_uri": "https://localhost:8080/"
        },
        "id": "eR4DiX4dDWAT",
        "outputId": "ec271228-ce07-44b7-9bee-5efd1b59f421"
      },
      "execution_count": 2,
      "outputs": [
        {
          "output_type": "stream",
          "name": "stdout",
          "text": [
            "tf.Tensor(1, shape=(), dtype=int32)\n"
          ]
        }
      ]
    },
    {
      "cell_type": "code",
      "source": [
        "# A tensor of 1 dimension\n",
        "\n",
        "q1 = tf.constant([3,6,9], tf.int32)\n",
        "print(q1)"
      ],
      "metadata": {
        "colab": {
          "base_uri": "https://localhost:8080/"
        },
        "id": "NXV4Ml8nD6Lv",
        "outputId": "4fa61236-1ead-4895-9bb2-df637fb2e271"
      },
      "execution_count": 4,
      "outputs": [
        {
          "output_type": "stream",
          "name": "stdout",
          "text": [
            "tf.Tensor([3 6 9], shape=(3,), dtype=int32)\n"
          ]
        }
      ]
    },
    {
      "cell_type": "code",
      "source": [
        "# A tensor of 2 dimension\n",
        "\n",
        "q2_matrix = tf.constant([ [3, 6], [4, 8] ],tf.int32)\n",
        "print(q2_matrix)"
      ],
      "metadata": {
        "colab": {
          "base_uri": "https://localhost:8080/"
        },
        "id": "_u61DiJ8EADt",
        "outputId": "dcc57557-eff3-4c0e-b633-f7967f85389b"
      },
      "execution_count": 5,
      "outputs": [
        {
          "output_type": "stream",
          "name": "stdout",
          "text": [
            "tf.Tensor(\n",
            "[[3 6]\n",
            " [4 8]], shape=(2, 2), dtype=int32)\n"
          ]
        }
      ]
    },
    {
      "cell_type": "code",
      "source": [
        "# A tensor of 3 dimension \n",
        "\n",
        "q3_matrix = tf.constant([ [[3, 6],[4, 8], [2, 4]] ], tf.int32)\n",
        "print(q3_matrix)"
      ],
      "metadata": {
        "colab": {
          "base_uri": "https://localhost:8080/"
        },
        "id": "WSTOSCl3EImn",
        "outputId": "b44a39e7-054b-4809-f633-d378eacf9866"
      },
      "execution_count": 6,
      "outputs": [
        {
          "output_type": "stream",
          "name": "stdout",
          "text": [
            "tf.Tensor(\n",
            "[[[3 6]\n",
            "  [4 8]\n",
            "  [2 4]]], shape=(1, 3, 2), dtype=int32)\n"
          ]
        }
      ]
    },
    {
      "cell_type": "code",
      "source": [
        "# Below the list of operations :\n",
        "# 0 tf.exp(a)\n",
        "# 0 tf.sqrt(a)\n",
        "# 0 tf.add(a,b)\n",
        "# 0 tf.subtract(a,b)\n",
        "# 0 tf.multiply(a,b)\n",
        "# 0 tf.div(a,b)\n",
        "# 0 tf.pow(a,b)"
      ],
      "metadata": {
        "id": "ghMFmIOHEdXT"
      },
      "execution_count": 7,
      "outputs": []
    },
    {
      "cell_type": "code",
      "source": [
        "# Add\n",
        "tensor_a=tf.constant(([2,4]), dtype=tf.int32)\n",
        "tensor_b=tf.constant(([4,9]), dtype=tf.int32)\n",
        "tensor_add=tf.add(tensor_a, tensor_b)\n",
        "print(tensor_add)"
      ],
      "metadata": {
        "colab": {
          "base_uri": "https://localhost:8080/"
        },
        "id": "1NQI7DLjFHl_",
        "outputId": "6d833400-e287-46ea-94d0-6e782ca25611"
      },
      "execution_count": 9,
      "outputs": [
        {
          "output_type": "stream",
          "name": "stdout",
          "text": [
            "tf.Tensor([ 6 13], shape=(2,), dtype=int32)\n"
          ]
        }
      ]
    },
    {
      "cell_type": "code",
      "source": [
        "# Add \n",
        "A1 = tf.constant([1,2,3])\n",
        "B1 = tf.constant([1,2,3])\n",
        "C1 = tf.add(A1, B1) \n",
        "print(C1)\n"
      ],
      "metadata": {
        "colab": {
          "base_uri": "https://localhost:8080/"
        },
        "id": "Xbmq-XG8HXeI",
        "outputId": "c8c19b5b-db9c-4aef-dbf7-6e5456f23655"
      },
      "execution_count": 10,
      "outputs": [
        {
          "output_type": "stream",
          "name": "stdout",
          "text": [
            "tf.Tensor([2 4 6], shape=(3,), dtype=int32)\n"
          ]
        }
      ]
    },
    {
      "cell_type": "code",
      "source": [
        "# Multiply\n",
        "m = tf.constant(34,dtype=\"int32\",name=\"mul1\")\n",
        "n = tf.constant(34,dtype=\"int32\",name=\"mul2\")\n",
        "tensor_multiply = tf.multiply(m,n)\n",
        "print(tensor_multiply)"
      ],
      "metadata": {
        "colab": {
          "base_uri": "https://localhost:8080/"
        },
        "id": "A4CMJHymH1ra",
        "outputId": "5d23405c-a485-4c77-913f-c2dc7ef3b700"
      },
      "execution_count": 12,
      "outputs": [
        {
          "output_type": "stream",
          "name": "stdout",
          "text": [
            "tf.Tensor(1156, shape=(), dtype=int32)\n"
          ]
        }
      ]
    },
    {
      "cell_type": "code",
      "source": [
        "#sqrt\n",
        "x=tf.constant([2.0], dtype=tf.float32)\n",
        "print(tf.sqrt(x))"
      ],
      "metadata": {
        "colab": {
          "base_uri": "https://localhost:8080/"
        },
        "id": "El3I19kbIW5v",
        "outputId": "49a0ba71-1c97-4ac0-984f-18a4ea01ce8f"
      },
      "execution_count": 13,
      "outputs": [
        {
          "output_type": "stream",
          "name": "stdout",
          "text": [
            "tf.Tensor([1.4142135], shape=(1,), dtype=float32)\n"
          ]
        }
      ]
    },
    {
      "cell_type": "code",
      "source": [
        "#Subtract\n",
        "x = tf.constant([1, 2, 3, 4, 5])\n",
        "y = tf.constant([5, 4, 3, 2, 1])\n",
        "tf.subtract(y, x)"
      ],
      "metadata": {
        "colab": {
          "base_uri": "https://localhost:8080/"
        },
        "id": "yyKCt4gAIuqo",
        "outputId": "7a894f00-302c-4f49-8417-24b59d8d0a53"
      },
      "execution_count": 15,
      "outputs": [
        {
          "output_type": "execute_result",
          "data": {
            "text/plain": [
              "<tf.Tensor: shape=(5,), dtype=int32, numpy=array([ 4,  2,  0, -2, -4], dtype=int32)>"
            ]
          },
          "metadata": {},
          "execution_count": 15
        }
      ]
    },
    {
      "cell_type": "code",
      "source": [
        "#exp\n",
        "x = tf.constant(2.0)\n",
        "tf.math.exp(x)"
      ],
      "metadata": {
        "colab": {
          "base_uri": "https://localhost:8080/"
        },
        "id": "IBEgzwSyJL50",
        "outputId": "62844daf-d08b-40d2-ab18-12b2a2fd7466"
      },
      "execution_count": 16,
      "outputs": [
        {
          "output_type": "execute_result",
          "data": {
            "text/plain": [
              "<tf.Tensor: shape=(), dtype=float32, numpy=7.389056>"
            ]
          },
          "metadata": {},
          "execution_count": 16
        }
      ]
    },
    {
      "cell_type": "code",
      "source": [
        "# pow\n",
        "x = tf.constant([[2, 2], [3, 3]])\n",
        "y = tf.constant([[8, 16], [2, 3]])\n",
        "tf.pow(x, y)"
      ],
      "metadata": {
        "colab": {
          "base_uri": "https://localhost:8080/"
        },
        "id": "24lmh4o0JT3w",
        "outputId": "97db1112-02bc-45f0-8800-8c7aeb4d3325"
      },
      "execution_count": 17,
      "outputs": [
        {
          "output_type": "execute_result",
          "data": {
            "text/plain": [
              "<tf.Tensor: shape=(2, 2), dtype=int32, numpy=\n",
              "array([[  256, 65536],\n",
              "       [    9,    27]], dtype=int32)>"
            ]
          },
          "metadata": {},
          "execution_count": 17
        }
      ]
    },
    {
      "cell_type": "code",
      "source": [
        "# div\n",
        "x = tf.constant([16, 12, 11])\n",
        "y = tf.constant([4, 6, 2])\n",
        "tf.divide(x,y)"
      ],
      "metadata": {
        "colab": {
          "base_uri": "https://localhost:8080/"
        },
        "id": "YwQK0SJiJgJl",
        "outputId": "3d3ba303-1c15-4d06-83ad-5f0c63d4238e"
      },
      "execution_count": 18,
      "outputs": [
        {
          "output_type": "execute_result",
          "data": {
            "text/plain": [
              "<tf.Tensor: shape=(3,), dtype=float64, numpy=array([4. , 2. , 5.5])>"
            ]
          },
          "metadata": {},
          "execution_count": 18
        }
      ]
    },
    {
      "cell_type": "code",
      "source": [
        "# create a variable \n",
        "var = tf.compat.v1.get_variable(\"var\", [1,2])\n",
        "print(var)"
      ],
      "metadata": {
        "colab": {
          "base_uri": "https://localhost:8080/"
        },
        "id": "nGRR-ZFaKDvr",
        "outputId": "dffe836f-6f14-4d85-8e33-7cd156978391"
      },
      "execution_count": 19,
      "outputs": [
        {
          "output_type": "stream",
          "name": "stdout",
          "text": [
            "<tf.Variable 'var:0' shape=(1, 2) dtype=float32, numpy=array([[-0.10735202, -0.8830705 ]], dtype=float32)>\n"
          ]
        }
      ]
    }
  ]
}